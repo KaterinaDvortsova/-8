{
 "cells": [
  {
   "cell_type": "code",
   "execution_count": 89,
   "id": "c5306eaf-887c-4670-9cdc-7e3ce1e725eb",
   "metadata": {},
   "outputs": [],
   "source": [
    "import numpy as np"
   ]
  },
  {
   "cell_type": "markdown",
   "id": "3af5c042-8c98-4a53-81f6-f5fb34260e1b",
   "metadata": {},
   "source": [
    "1.Загрузите датасет с помощью функции np.genfromtxt()"
   ]
  },
  {
   "cell_type": "code",
   "execution_count": 90,
   "id": "38d7a276-f8fe-453b-a680-8bcba57f6d9d",
   "metadata": {},
   "outputs": [],
   "source": [
    "url = 'https://archive.ics.uci.edu/ml/machine-learning-databases/iris/iris.data'\n",
    "iris = np.genfromtxt(url, delimiter=',', dtype='str')"
   ]
  },
  {
   "cell_type": "code",
   "execution_count": 91,
   "id": "26c4e531-b032-4973-bd19-0a8e699b4ced",
   "metadata": {},
   "outputs": [
    {
     "data": {
      "text/plain": [
       "array([['5.1', '3.5', '1.4', '0.2', 'Iris-setosa'],\n",
       "       ['4.9', '3.0', '1.4', '0.2', 'Iris-setosa'],\n",
       "       ['4.7', '3.2', '1.3', '0.2', 'Iris-setosa'],\n",
       "       ['4.6', '3.1', '1.5', '0.2', 'Iris-setosa'],\n",
       "       ['5.0', '3.6', '1.4', '0.2', 'Iris-setosa'],\n",
       "       ['5.4', '3.9', '1.7', '0.4', 'Iris-setosa'],\n",
       "       ['4.6', '3.4', '1.4', '0.3', 'Iris-setosa'],\n",
       "       ['5.0', '3.4', '1.5', '0.2', 'Iris-setosa'],\n",
       "       ['4.4', '2.9', '1.4', '0.2', 'Iris-setosa'],\n",
       "       ['4.9', '3.1', '1.5', '0.1', 'Iris-setosa']], dtype='<U15')"
      ]
     },
     "execution_count": 91,
     "metadata": {},
     "output_type": "execute_result"
    }
   ],
   "source": [
    "iris[:10]"
   ]
  },
  {
   "cell_type": "code",
   "execution_count": 92,
   "id": "cc245525-10c3-45b9-bcf3-1f84e1868062",
   "metadata": {},
   "outputs": [
    {
     "data": {
      "text/plain": [
       "(150, 5)"
      ]
     },
     "execution_count": 92,
     "metadata": {},
     "output_type": "execute_result"
    }
   ],
   "source": [
    "iris.shape"
   ]
  },
  {
   "cell_type": "markdown",
   "id": "0c054778-42e4-4726-b30e-5efb3277fb82",
   "metadata": {},
   "source": [
    "2.Вычислите простейшие статистики: min, max, median, mean, 0.25-percentile,\n",
    "0.75-percentile для каждого из числовых атрибутов в датасете"
   ]
  },
  {
   "cell_type": "code",
   "execution_count": 93,
   "id": "8fe62590-66bb-4793-a0ee-6ef922aab0fa",
   "metadata": {},
   "outputs": [],
   "source": [
    "number_atrs = []\n",
    "for i in range(4):\n",
    "    number_atrs.append(np.genfromtxt(url, delimiter=',', dtype='float', usecols=[i]))"
   ]
  },
  {
   "cell_type": "code",
   "execution_count": 94,
   "id": "cd80968a-7a3a-4713-ad95-52b781c5e055",
   "metadata": {},
   "outputs": [
    {
     "data": {
      "text/plain": [
       "array([5.1, 4.9, 4.7, 4.6, 5. , 5.4, 4.6, 5. , 4.4, 4.9, 5.4, 4.8, 4.8,\n",
       "       4.3, 5.8, 5.7, 5.4, 5.1, 5.7, 5.1, 5.4, 5.1, 4.6, 5.1, 4.8, 5. ,\n",
       "       5. , 5.2, 5.2, 4.7, 4.8, 5.4, 5.2, 5.5, 4.9, 5. , 5.5, 4.9, 4.4,\n",
       "       5.1, 5. , 4.5, 4.4, 5. , 5.1, 4.8, 5.1, 4.6, 5.3, 5. , 7. , 6.4,\n",
       "       6.9, 5.5, 6.5, 5.7, 6.3, 4.9, 6.6, 5.2, 5. , 5.9, 6. , 6.1, 5.6,\n",
       "       6.7, 5.6, 5.8, 6.2, 5.6, 5.9, 6.1, 6.3, 6.1, 6.4, 6.6, 6.8, 6.7,\n",
       "       6. , 5.7, 5.5, 5.5, 5.8, 6. , 5.4, 6. , 6.7, 6.3, 5.6, 5.5, 5.5,\n",
       "       6.1, 5.8, 5. , 5.6, 5.7, 5.7, 6.2, 5.1, 5.7, 6.3, 5.8, 7.1, 6.3,\n",
       "       6.5, 7.6, 4.9, 7.3, 6.7, 7.2, 6.5, 6.4, 6.8, 5.7, 5.8, 6.4, 6.5,\n",
       "       7.7, 7.7, 6. , 6.9, 5.6, 7.7, 6.3, 6.7, 7.2, 6.2, 6.1, 6.4, 7.2,\n",
       "       7.4, 7.9, 6.4, 6.3, 6.1, 7.7, 6.3, 6.4, 6. , 6.9, 6.7, 6.9, 5.8,\n",
       "       6.8, 6.7, 6.7, 6.3, 6.5, 6.2, 5.9])"
      ]
     },
     "execution_count": 94,
     "metadata": {},
     "output_type": "execute_result"
    }
   ],
   "source": [
    "number_atrs[0]"
   ]
  },
  {
   "cell_type": "code",
   "execution_count": 95,
   "id": "734a85f3-0320-4c63-86e8-cbddb1d3a746",
   "metadata": {},
   "outputs": [
    {
     "data": {
      "text/plain": [
       "4"
      ]
     },
     "execution_count": 95,
     "metadata": {},
     "output_type": "execute_result"
    }
   ],
   "source": [
    "len(number_atrs)"
   ]
  },
  {
   "cell_type": "code",
   "execution_count": 96,
   "id": "8f095096-ee65-4b9d-8326-3ff804e36a74",
   "metadata": {},
   "outputs": [
    {
     "name": "stdout",
     "output_type": "stream",
     "text": [
      "Среднее для атрибута 0 = 5.843333333333334\n",
      "Минимум для атрибута 0= 4.3\n",
      "Максимум для атрибута 0= 7.9\n",
      "Медиана для атрибута 0= 5.8\n",
      "Персентиль 0,25 для атрибута 0= 5.1\n",
      "Персентиль 0,75 для атрибута 0= 6.4\n",
      "\n",
      "\n",
      "Среднее для атрибута 1 = 3.0540000000000003\n",
      "Минимум для атрибута 1= 2.0\n",
      "Максимум для атрибута 1= 4.4\n",
      "Медиана для атрибута 1= 3.0\n",
      "Персентиль 0,25 для атрибута 1= 2.8\n",
      "Персентиль 0,75 для атрибута 1= 3.3\n",
      "\n",
      "\n",
      "Среднее для атрибута 2 = 3.758666666666666\n",
      "Минимум для атрибута 2= 1.0\n",
      "Максимум для атрибута 2= 6.9\n",
      "Медиана для атрибута 2= 4.35\n",
      "Персентиль 0,25 для атрибута 2= 1.6\n",
      "Персентиль 0,75 для атрибута 2= 5.1\n",
      "\n",
      "\n",
      "Среднее для атрибута 3 = 1.1986666666666668\n",
      "Минимум для атрибута 3= 0.1\n",
      "Максимум для атрибута 3= 2.5\n",
      "Медиана для атрибута 3= 1.3\n",
      "Персентиль 0,25 для атрибута 3= 0.3\n",
      "Персентиль 0,75 для атрибута 3= 1.8\n",
      "\n",
      "\n"
     ]
    }
   ],
   "source": [
    "for i in range(len(number_atrs)):\n",
    "    print(f'Среднее для атрибута {i} =', np.mean(number_atrs[i]))\n",
    "    print(f'Минимум для атрибута {i}=', np.min(number_atrs[i]))\n",
    "    print(f'Максимум для атрибута {i}=', np.max(number_atrs[i]))\n",
    "    print (f'Медиана для атрибута {i}=', np.median(number_atrs[i]))\n",
    "    print(f'Персентиль 0,25 для атрибута {i}=', np.percentile(number_atrs[i], 25))\n",
    "    print(f'Персентиль 0,75 для атрибута {i}=', np.percentile(number_atrs[i], 75))\n",
    "    print('\\n')"
   ]
  },
  {
   "cell_type": "markdown",
   "id": "c7eada4e-5c41-46fe-8394-047d6f21ae9e",
   "metadata": {},
   "source": [
    "3. Постройте гистограмму для каждого из числовых атрибутов в датасете"
   ]
  },
  {
   "cell_type": "code",
   "execution_count": 97,
   "id": "549e2323-6a6e-4282-a82b-09d1b2ed15b3",
   "metadata": {},
   "outputs": [],
   "source": [
    "import matplotlib.pyplot as plt"
   ]
  },
  {
   "cell_type": "code",
   "execution_count": 98,
   "id": "2bcfed95-0d13-475c-8eca-2cfa55b7c790",
   "metadata": {},
   "outputs": [
    {
     "data": {
      "image/png": "[encoded data removed]",
      "text/plain": [
       "<Figure size 432x288 with 1 Axes>"
      ]
     },
     "metadata": {
      "needs_background": "light"
     },
     "output_type": "display_data"
    }
   ],
   "source": [
    "plt.hist(atr_1, bins = 'auto')\n",
    "plt.title('Гистограмма для atr_1')\n",
    "plt.show()"
   ]
  },
  {
   "cell_type": "code",
   "execution_count": 99,
   "id": "e54798fe-87ad-4924-a6be-50707332b317",
   "metadata": {},
   "outputs": [
    {
     "data": {
      "image/png": "[encoded data removed]",
      "text/plain": [
       "<Figure size 432x288 with 1 Axes>"
      ]
     },
     "metadata": {
      "needs_background": "light"
     },
     "output_type": "display_data"
    },
    {
     "data": {
      "image/png": "[encoded data removed]",
      "text/plain": [
       "<Figure size 432x288 with 1 Axes>"
      ]
     },
     "metadata": {
      "needs_background": "light"
     },
     "output_type": "display_data"
    },
    {
     "data": {
      "image/png": "[encoded data removed]",
      "text/plain": [
       "<Figure size 432x288 with 1 Axes>"
      ]
     },
     "metadata": {
      "needs_background": "light"
     },
     "output_type": "display_data"
    },
    {
     "data": {
      "image/png": "[encoded data removed]",
      "text/plain": [
       "<Figure size 432x288 with 1 Axes>"
      ]
     },
     "metadata": {
      "needs_background": "light"
     },
     "output_type": "display_data"
    }
   ],
   "source": [
    "for i in range(len(number_atrs)):\n",
    "    plt.hist(number_atrs[i])\n",
    "    plt.title(f'Гистограмма для атрибута {i}')\n",
    "    plt.show()"
   ]
  },
  {
   "cell_type": "markdown",
   "id": "c68563f1-743a-4cef-a370-58b748d5ae9c",
   "metadata": {},
   "source": [
    "4. Сгруппируйте датасет по категории (последний столбец датасета) и повторите\n",
    "шаги 2 и 3 для групп."
   ]
  },
  {
   "cell_type": "code",
   "execution_count": 100,
   "id": "d8779dbf-9ab3-4d0f-be4a-e64625a417c6",
   "metadata": {},
   "outputs": [
    {
     "data": {
      "text/plain": [
       "array(['Iris-setosa', 'Iris-setosa', 'Iris-setosa', 'Iris-setosa',\n",
       "       'Iris-setosa', 'Iris-setosa', 'Iris-setosa', 'Iris-setosa',\n",
       "       'Iris-setosa', 'Iris-setosa', 'Iris-setosa', 'Iris-setosa',\n",
       "       'Iris-setosa', 'Iris-setosa', 'Iris-setosa', 'Iris-setosa',\n",
       "       'Iris-setosa', 'Iris-setosa', 'Iris-setosa', 'Iris-setosa',\n",
       "       'Iris-setosa', 'Iris-setosa', 'Iris-setosa', 'Iris-setosa',\n",
       "       'Iris-setosa', 'Iris-setosa', 'Iris-setosa', 'Iris-setosa',\n",
       "       'Iris-setosa', 'Iris-setosa', 'Iris-setosa', 'Iris-setosa',\n",
       "       'Iris-setosa', 'Iris-setosa', 'Iris-setosa', 'Iris-setosa',\n",
       "       'Iris-setosa', 'Iris-setosa', 'Iris-setosa', 'Iris-setosa',\n",
       "       'Iris-setosa', 'Iris-setosa', 'Iris-setosa', 'Iris-setosa',\n",
       "       'Iris-setosa', 'Iris-setosa', 'Iris-setosa', 'Iris-setosa',\n",
       "       'Iris-setosa', 'Iris-setosa', 'Iris-versicolor', 'Iris-versicolor',\n",
       "       'Iris-versicolor', 'Iris-versicolor', 'Iris-versicolor',\n",
       "       'Iris-versicolor', 'Iris-versicolor', 'Iris-versicolor',\n",
       "       'Iris-versicolor', 'Iris-versicolor', 'Iris-versicolor',\n",
       "       'Iris-versicolor', 'Iris-versicolor', 'Iris-versicolor',\n",
       "       'Iris-versicolor', 'Iris-versicolor', 'Iris-versicolor',\n",
       "       'Iris-versicolor', 'Iris-versicolor', 'Iris-versicolor',\n",
       "       'Iris-versicolor', 'Iris-versicolor', 'Iris-versicolor',\n",
       "       'Iris-versicolor', 'Iris-versicolor', 'Iris-versicolor',\n",
       "       'Iris-versicolor', 'Iris-versicolor', 'Iris-versicolor',\n",
       "       'Iris-versicolor', 'Iris-versicolor', 'Iris-versicolor',\n",
       "       'Iris-versicolor', 'Iris-versicolor', 'Iris-versicolor',\n",
       "       'Iris-versicolor', 'Iris-versicolor', 'Iris-versicolor',\n",
       "       'Iris-versicolor', 'Iris-versicolor', 'Iris-versicolor',\n",
       "       'Iris-versicolor', 'Iris-versicolor', 'Iris-versicolor',\n",
       "       'Iris-versicolor', 'Iris-versicolor', 'Iris-versicolor',\n",
       "       'Iris-versicolor', 'Iris-versicolor', 'Iris-versicolor',\n",
       "       'Iris-virginica', 'Iris-virginica', 'Iris-virginica',\n",
       "       'Iris-virginica', 'Iris-virginica', 'Iris-virginica',\n",
       "       'Iris-virginica', 'Iris-virginica', 'Iris-virginica',\n",
       "       'Iris-virginica', 'Iris-virginica', 'Iris-virginica',\n",
       "       'Iris-virginica', 'Iris-virginica', 'Iris-virginica',\n",
       "       'Iris-virginica', 'Iris-virginica', 'Iris-virginica',\n",
       "       'Iris-virginica', 'Iris-virginica', 'Iris-virginica',\n",
       "       'Iris-virginica', 'Iris-virginica', 'Iris-virginica',\n",
       "       'Iris-virginica', 'Iris-virginica', 'Iris-virginica',\n",
       "       'Iris-virginica', 'Iris-virginica', 'Iris-virginica',\n",
       "       'Iris-virginica', 'Iris-virginica', 'Iris-virginica',\n",
       "       'Iris-virginica', 'Iris-virginica', 'Iris-virginica',\n",
       "       'Iris-virginica', 'Iris-virginica', 'Iris-virginica',\n",
       "       'Iris-virginica', 'Iris-virginica', 'Iris-virginica',\n",
       "       'Iris-virginica', 'Iris-virginica', 'Iris-virginica',\n",
       "       'Iris-virginica', 'Iris-virginica', 'Iris-virginica',\n",
       "       'Iris-virginica', 'Iris-virginica'], dtype='<U15')"
      ]
     },
     "execution_count": 100,
     "metadata": {},
     "output_type": "execute_result"
    }
   ],
   "source": [
    "atr_5"
   ]
  },
  {
   "cell_type": "code",
   "execution_count": 101,
   "id": "b16e50c7-4a9b-47de-9923-6dd74bca5061",
   "metadata": {},
   "outputs": [],
   "source": [
    "new_1=[]\n",
    "for group_val in np.unique(atr_5):\n",
    "  new_1.append(atr_1[atr_5==group_val].mean())"
   ]
  },
  {
   "cell_type": "code",
   "execution_count": 103,
   "id": "713c53d4-0889-4501-87a7-800c1e0a7d64",
   "metadata": {},
   "outputs": [],
   "source": [
    "new_number_atrs = []\n",
    "\n",
    "for i in range(len(number_atrs)):\n",
    "     for group_val in np.unique(atr_5):\n",
    "        new_number_atrs.append([i, group_val, number_atrs[i][atr_5==group_val]])"
   ]
  },
  {
   "cell_type": "code",
   "execution_count": 104,
   "id": "6ffcd0c6-4d07-4057-9a59-c320773f2611",
   "metadata": {},
   "outputs": [
    {
     "data": {
      "text/plain": [
       "12"
      ]
     },
     "execution_count": 104,
     "metadata": {},
     "output_type": "execute_result"
    }
   ],
   "source": [
    "len(new_number_atrs)"
   ]
  },
  {
   "cell_type": "code",
   "execution_count": 105,
   "id": "97b69295-0247-482b-8079-7194389ef68a",
   "metadata": {},
   "outputs": [
    {
     "data": {
      "text/plain": [
       "[[0,\n",
       "  'Iris-setosa',\n",
       "  array([5.1, 4.9, 4.7, 4.6, 5. , 5.4, 4.6, 5. , 4.4, 4.9, 5.4, 4.8, 4.8,\n",
       "         4.3, 5.8, 5.7, 5.4, 5.1, 5.7, 5.1, 5.4, 5.1, 4.6, 5.1, 4.8, 5. ,\n",
       "         5. , 5.2, 5.2, 4.7, 4.8, 5.4, 5.2, 5.5, 4.9, 5. , 5.5, 4.9, 4.4,\n",
       "         5.1, 5. , 4.5, 4.4, 5. , 5.1, 4.8, 5.1, 4.6, 5.3, 5. ])],\n",
       " [0,\n",
       "  'Iris-versicolor',\n",
       "  array([7. , 6.4, 6.9, 5.5, 6.5, 5.7, 6.3, 4.9, 6.6, 5.2, 5. , 5.9, 6. ,\n",
       "         6.1, 5.6, 6.7, 5.6, 5.8, 6.2, 5.6, 5.9, 6.1, 6.3, 6.1, 6.4, 6.6,\n",
       "         6.8, 6.7, 6. , 5.7, 5.5, 5.5, 5.8, 6. , 5.4, 6. , 6.7, 6.3, 5.6,\n",
       "         5.5, 5.5, 6.1, 5.8, 5. , 5.6, 5.7, 5.7, 6.2, 5.1, 5.7])],\n",
       " [0,\n",
       "  'Iris-virginica',\n",
       "  array([6.3, 5.8, 7.1, 6.3, 6.5, 7.6, 4.9, 7.3, 6.7, 7.2, 6.5, 6.4, 6.8,\n",
       "         5.7, 5.8, 6.4, 6.5, 7.7, 7.7, 6. , 6.9, 5.6, 7.7, 6.3, 6.7, 7.2,\n",
       "         6.2, 6.1, 6.4, 7.2, 7.4, 7.9, 6.4, 6.3, 6.1, 7.7, 6.3, 6.4, 6. ,\n",
       "         6.9, 6.7, 6.9, 5.8, 6.8, 6.7, 6.7, 6.3, 6.5, 6.2, 5.9])],\n",
       " [1,\n",
       "  'Iris-setosa',\n",
       "  array([3.5, 3. , 3.2, 3.1, 3.6, 3.9, 3.4, 3.4, 2.9, 3.1, 3.7, 3.4, 3. ,\n",
       "         3. , 4. , 4.4, 3.9, 3.5, 3.8, 3.8, 3.4, 3.7, 3.6, 3.3, 3.4, 3. ,\n",
       "         3.4, 3.5, 3.4, 3.2, 3.1, 3.4, 4.1, 4.2, 3.1, 3.2, 3.5, 3.1, 3. ,\n",
       "         3.4, 3.5, 2.3, 3.2, 3.5, 3.8, 3. , 3.8, 3.2, 3.7, 3.3])],\n",
       " [1,\n",
       "  'Iris-versicolor',\n",
       "  array([3.2, 3.2, 3.1, 2.3, 2.8, 2.8, 3.3, 2.4, 2.9, 2.7, 2. , 3. , 2.2,\n",
       "         2.9, 2.9, 3.1, 3. , 2.7, 2.2, 2.5, 3.2, 2.8, 2.5, 2.8, 2.9, 3. ,\n",
       "         2.8, 3. , 2.9, 2.6, 2.4, 2.4, 2.7, 2.7, 3. , 3.4, 3.1, 2.3, 3. ,\n",
       "         2.5, 2.6, 3. , 2.6, 2.3, 2.7, 3. , 2.9, 2.9, 2.5, 2.8])],\n",
       " [1,\n",
       "  'Iris-virginica',\n",
       "  array([3.3, 2.7, 3. , 2.9, 3. , 3. , 2.5, 2.9, 2.5, 3.6, 3.2, 2.7, 3. ,\n",
       "         2.5, 2.8, 3.2, 3. , 3.8, 2.6, 2.2, 3.2, 2.8, 2.8, 2.7, 3.3, 3.2,\n",
       "         2.8, 3. , 2.8, 3. , 2.8, 3.8, 2.8, 2.8, 2.6, 3. , 3.4, 3.1, 3. ,\n",
       "         3.1, 3.1, 3.1, 2.7, 3.2, 3.3, 3. , 2.5, 3. , 3.4, 3. ])],\n",
       " [2,\n",
       "  'Iris-setosa',\n",
       "  array([1.4, 1.4, 1.3, 1.5, 1.4, 1.7, 1.4, 1.5, 1.4, 1.5, 1.5, 1.6, 1.4,\n",
       "         1.1, 1.2, 1.5, 1.3, 1.4, 1.7, 1.5, 1.7, 1.5, 1. , 1.7, 1.9, 1.6,\n",
       "         1.6, 1.5, 1.4, 1.6, 1.6, 1.5, 1.5, 1.4, 1.5, 1.2, 1.3, 1.5, 1.3,\n",
       "         1.5, 1.3, 1.3, 1.3, 1.6, 1.9, 1.4, 1.6, 1.4, 1.5, 1.4])],\n",
       " [2,\n",
       "  'Iris-versicolor',\n",
       "  array([4.7, 4.5, 4.9, 4. , 4.6, 4.5, 4.7, 3.3, 4.6, 3.9, 3.5, 4.2, 4. ,\n",
       "         4.7, 3.6, 4.4, 4.5, 4.1, 4.5, 3.9, 4.8, 4. , 4.9, 4.7, 4.3, 4.4,\n",
       "         4.8, 5. , 4.5, 3.5, 3.8, 3.7, 3.9, 5.1, 4.5, 4.5, 4.7, 4.4, 4.1,\n",
       "         4. , 4.4, 4.6, 4. , 3.3, 4.2, 4.2, 4.2, 4.3, 3. , 4.1])],\n",
       " [2,\n",
       "  'Iris-virginica',\n",
       "  array([6. , 5.1, 5.9, 5.6, 5.8, 6.6, 4.5, 6.3, 5.8, 6.1, 5.1, 5.3, 5.5,\n",
       "         5. , 5.1, 5.3, 5.5, 6.7, 6.9, 5. , 5.7, 4.9, 6.7, 4.9, 5.7, 6. ,\n",
       "         4.8, 4.9, 5.6, 5.8, 6.1, 6.4, 5.6, 5.1, 5.6, 6.1, 5.6, 5.5, 4.8,\n",
       "         5.4, 5.6, 5.1, 5.1, 5.9, 5.7, 5.2, 5. , 5.2, 5.4, 5.1])],\n",
       " [3,\n",
       "  'Iris-setosa',\n",
       "  array([0.2, 0.2, 0.2, 0.2, 0.2, 0.4, 0.3, 0.2, 0.2, 0.1, 0.2, 0.2, 0.1,\n",
       "         0.1, 0.2, 0.4, 0.4, 0.3, 0.3, 0.3, 0.2, 0.4, 0.2, 0.5, 0.2, 0.2,\n",
       "         0.4, 0.2, 0.2, 0.2, 0.2, 0.4, 0.1, 0.2, 0.1, 0.2, 0.2, 0.1, 0.2,\n",
       "         0.2, 0.3, 0.3, 0.2, 0.6, 0.4, 0.3, 0.2, 0.2, 0.2, 0.2])],\n",
       " [3,\n",
       "  'Iris-versicolor',\n",
       "  array([1.4, 1.5, 1.5, 1.3, 1.5, 1.3, 1.6, 1. , 1.3, 1.4, 1. , 1.5, 1. ,\n",
       "         1.4, 1.3, 1.4, 1.5, 1. , 1.5, 1.1, 1.8, 1.3, 1.5, 1.2, 1.3, 1.4,\n",
       "         1.4, 1.7, 1.5, 1. , 1.1, 1. , 1.2, 1.6, 1.5, 1.6, 1.5, 1.3, 1.3,\n",
       "         1.3, 1.2, 1.4, 1.2, 1. , 1.3, 1.2, 1.3, 1.3, 1.1, 1.3])],\n",
       " [3,\n",
       "  'Iris-virginica',\n",
       "  array([2.5, 1.9, 2.1, 1.8, 2.2, 2.1, 1.7, 1.8, 1.8, 2.5, 2. , 1.9, 2.1,\n",
       "         2. , 2.4, 2.3, 1.8, 2.2, 2.3, 1.5, 2.3, 2. , 2. , 1.8, 2.1, 1.8,\n",
       "         1.8, 1.8, 2.1, 1.6, 1.9, 2. , 2.2, 1.5, 1.4, 2.3, 2.4, 1.8, 1.8,\n",
       "         2.1, 2.4, 2.3, 1.9, 2.3, 2.5, 2.3, 1.9, 2. , 2.3, 1.8])]]"
      ]
     },
     "execution_count": 105,
     "metadata": {},
     "output_type": "execute_result"
    }
   ],
   "source": [
    "new_number_atrs"
   ]
  },
  {
   "cell_type": "code",
   "execution_count": 109,
   "id": "fce4551e-61de-4319-a4a3-4b0becd1b061",
   "metadata": {},
   "outputs": [
    {
     "data": {
      "text/plain": [
       "[0,\n",
       " 'Iris-setosa',\n",
       " array([5.1, 4.9, 4.7, 4.6, 5. , 5.4, 4.6, 5. , 4.4, 4.9, 5.4, 4.8, 4.8,\n",
       "        4.3, 5.8, 5.7, 5.4, 5.1, 5.7, 5.1, 5.4, 5.1, 4.6, 5.1, 4.8, 5. ,\n",
       "        5. , 5.2, 5.2, 4.7, 4.8, 5.4, 5.2, 5.5, 4.9, 5. , 5.5, 4.9, 4.4,\n",
       "        5.1, 5. , 4.5, 4.4, 5. , 5.1, 4.8, 5.1, 4.6, 5.3, 5. ])]"
      ]
     },
     "execution_count": 109,
     "metadata": {},
     "output_type": "execute_result"
    }
   ],
   "source": [
    "new_number_atrs[0]"
   ]
  },
  {
   "cell_type": "code",
   "execution_count": 110,
   "id": "ab6a753d-0202-47f8-be49-f194606558a8",
   "metadata": {},
   "outputs": [
    {
     "data": {
      "text/plain": [
       "array([5.1, 4.9, 4.7, 4.6, 5. , 5.4, 4.6, 5. , 4.4, 4.9, 5.4, 4.8, 4.8,\n",
       "       4.3, 5.8, 5.7, 5.4, 5.1, 5.7, 5.1, 5.4, 5.1, 4.6, 5.1, 4.8, 5. ,\n",
       "       5. , 5.2, 5.2, 4.7, 4.8, 5.4, 5.2, 5.5, 4.9, 5. , 5.5, 4.9, 4.4,\n",
       "       5.1, 5. , 4.5, 4.4, 5. , 5.1, 4.8, 5.1, 4.6, 5.3, 5. ])"
      ]
     },
     "execution_count": 110,
     "metadata": {},
     "output_type": "execute_result"
    }
   ],
   "source": [
    "new_number_atrs [0][2]"
   ]
  },
  {
   "cell_type": "code",
   "execution_count": 112,
   "id": "61f6a6c2-cc2a-4c82-ba10-e85798267a9e",
   "metadata": {},
   "outputs": [
    {
     "name": "stdout",
     "output_type": "stream",
     "text": [
      "Для числового атрибута 1 группы Iris-setosa\n",
      "\n",
      "\n",
      "*Выведем статистику - задание 2 *\n",
      "Среднее для нового атрибута 0 = 5.006\n",
      "Минимум для нового атрибута 0= 4.3\n",
      "Максимум для нового атрибута 0= 5.8\n",
      "Медиана для нового атрибута 0= 5.0\n",
      "Персентиль 0,25 для нового атрибута 0= 4.8\n",
      "Персентиль 0,75 для нового атрибута 0= 5.2\n",
      "\n",
      "\n",
      "*Выведем гистограмму - задание 3 *\n"
     ]
    },
    {
     "data": {
      "image/png": "[encoded data removed]",
      "text/plain": [
       "<Figure size 432x288 with 1 Axes>"
      ]
     },
     "metadata": {
      "needs_background": "light"
     },
     "output_type": "display_data"
    },
    {
     "name": "stdout",
     "output_type": "stream",
     "text": [
      "Для числового атрибута 1 группы Iris-versicolor\n",
      "\n",
      "\n",
      "*Выведем статистику - задание 2 *\n",
      "Среднее для нового атрибута 1 = 5.936\n",
      "Минимум для нового атрибута 1= 4.9\n",
      "Максимум для нового атрибута 1= 7.0\n",
      "Медиана для нового атрибута 1= 5.9\n",
      "Персентиль 0,25 для нового атрибута 1= 5.6\n",
      "Персентиль 0,75 для нового атрибута 1= 6.3\n",
      "\n",
      "\n",
      "*Выведем гистограмму - задание 3 *\n"
     ]
    },
    {
     "data": {
      "image/png": "[encoded data removed]",
      "text/plain": [
       "<Figure size 432x288 with 1 Axes>"
      ]
     },
     "metadata": {
      "needs_background": "light"
     },
     "output_type": "display_data"
    },
    {
     "name": "stdout",
     "output_type": "stream",
     "text": [
      "Для числового атрибута 1 группы Iris-virginica\n",
      "\n",
      "\n",
      "*Выведем статистику - задание 2 *\n",
      "Среднее для нового атрибута 2 = 6.587999999999998\n",
      "Минимум для нового атрибута 2= 4.9\n",
      "Максимум для нового атрибута 2= 7.9\n",
      "Медиана для нового атрибута 2= 6.5\n",
      "Персентиль 0,25 для нового атрибута 2= 6.225\n",
      "Персентиль 0,75 для нового атрибута 2= 6.9\n",
      "\n",
      "\n",
      "*Выведем гистограмму - задание 3 *\n"
     ]
    },
    {
     "data": {
      "image/png": "[encoded data removed]",
      "text/plain": [
       "<Figure size 432x288 with 1 Axes>"
      ]
     },
     "metadata": {
      "needs_background": "light"
     },
     "output_type": "display_data"
    },
    {
     "name": "stdout",
     "output_type": "stream",
     "text": [
      "Для числового атрибута 2 группы Iris-setosa\n",
      "\n",
      "\n",
      "*Выведем статистику - задание 2 *\n",
      "Среднее для нового атрибута 3 = 3.418\n",
      "Минимум для нового атрибута 3= 2.3\n",
      "Максимум для нового атрибута 3= 4.4\n",
      "Медиана для нового атрибута 3= 3.4\n",
      "Персентиль 0,25 для нового атрибута 3= 3.125\n",
      "Персентиль 0,75 для нового атрибута 3= 3.6750000000000003\n",
      "\n",
      "\n",
      "*Выведем гистограмму - задание 3 *\n"
     ]
    },
    {
     "data": {
      "image/png": "[encoded data removed]",
      "text/plain": [
       "<Figure size 432x288 with 1 Axes>"
      ]
     },
     "metadata": {
      "needs_background": "light"
     },
     "output_type": "display_data"
    },
    {
     "name": "stdout",
     "output_type": "stream",
     "text": [
      "Для числового атрибута 2 группы Iris-versicolor\n",
      "\n",
      "\n",
      "*Выведем статистику - задание 2 *\n",
      "Среднее для нового атрибута 4 = 2.7700000000000005\n",
      "Минимум для нового атрибута 4= 2.0\n",
      "Максимум для нового атрибута 4= 3.4\n",
      "Медиана для нового атрибута 4= 2.8\n",
      "Персентиль 0,25 для нового атрибута 4= 2.525\n",
      "Персентиль 0,75 для нового атрибута 4= 3.0\n",
      "\n",
      "\n",
      "*Выведем гистограмму - задание 3 *\n"
     ]
    },
    {
     "data": {
      "image/png": "[encoded data removed]",
      "text/plain": [
       "<Figure size 432x288 with 1 Axes>"
      ]
     },
     "metadata": {
      "needs_background": "light"
     },
     "output_type": "display_data"
    },
    {
     "name": "stdout",
     "output_type": "stream",
     "text": [
      "Для числового атрибута 2 группы Iris-virginica\n",
      "\n",
      "\n",
      "*Выведем статистику - задание 2 *\n",
      "Среднее для нового атрибута 5 = 2.974\n",
      "Минимум для нового атрибута 5= 2.2\n",
      "Максимум для нового атрибута 5= 3.8\n",
      "Медиана для нового атрибута 5= 3.0\n",
      "Персентиль 0,25 для нового атрибута 5= 2.8\n",
      "Персентиль 0,75 для нового атрибута 5= 3.1750000000000003\n",
      "\n",
      "\n",
      "*Выведем гистограмму - задание 3 *\n"
     ]
    },
    {
     "data": {
      "image/png": "[encoded data removed]",
      "text/plain": [
       "<Figure size 432x288 with 1 Axes>"
      ]
     },
     "metadata": {
      "needs_background": "light"
     },
     "output_type": "display_data"
    },
    {
     "name": "stdout",
     "output_type": "stream",
     "text": [
      "Для числового атрибута 3 группы Iris-setosa\n",
      "\n",
      "\n",
      "*Выведем статистику - задание 2 *\n",
      "Среднее для нового атрибута 6 = 1.464\n",
      "Минимум для нового атрибута 6= 1.0\n",
      "Максимум для нового атрибута 6= 1.9\n",
      "Медиана для нового атрибута 6= 1.5\n",
      "Персентиль 0,25 для нового атрибута 6= 1.4\n",
      "Персентиль 0,75 для нового атрибута 6= 1.5750000000000002\n",
      "\n",
      "\n",
      "*Выведем гистограмму - задание 3 *\n"
     ]
    },
    {
     "data": {
      "image/png": "[encoded data removed]",
      "text/plain": [
       "<Figure size 432x288 with 1 Axes>"
      ]
     },
     "metadata": {
      "needs_background": "light"
     },
     "output_type": "display_data"
    },
    {
     "name": "stdout",
     "output_type": "stream",
     "text": [
      "Для числового атрибута 3 группы Iris-versicolor\n",
      "\n",
      "\n",
      "*Выведем статистику - задание 2 *\n",
      "Среднее для нового атрибута 7 = 4.26\n",
      "Минимум для нового атрибута 7= 3.0\n",
      "Максимум для нового атрибута 7= 5.1\n",
      "Медиана для нового атрибута 7= 4.35\n",
      "Персентиль 0,25 для нового атрибута 7= 4.0\n",
      "Персентиль 0,75 для нового атрибута 7= 4.6\n",
      "\n",
      "\n",
      "*Выведем гистограмму - задание 3 *\n"
     ]
    },
    {
     "data": {
      "image/png": "[encoded data removed]",
      "text/plain": [
       "<Figure size 432x288 with 1 Axes>"
      ]
     },
     "metadata": {
      "needs_background": "light"
     },
     "output_type": "display_data"
    },
    {
     "name": "stdout",
     "output_type": "stream",
     "text": [
      "Для числового атрибута 3 группы Iris-virginica\n",
      "\n",
      "\n",
      "*Выведем статистику - задание 2 *\n",
      "Среднее для нового атрибута 8 = 5.5520000000000005\n",
      "Минимум для нового атрибута 8= 4.5\n",
      "Максимум для нового атрибута 8= 6.9\n",
      "Медиана для нового атрибута 8= 5.55\n",
      "Персентиль 0,25 для нового атрибута 8= 5.1\n",
      "Персентиль 0,75 для нового атрибута 8= 5.875\n",
      "\n",
      "\n",
      "*Выведем гистограмму - задание 3 *\n"
     ]
    },
    {
     "data": {
      "image/png": "[encoded data removed]",
      "text/plain": [
       "<Figure size 432x288 with 1 Axes>"
      ]
     },
     "metadata": {
      "needs_background": "light"
     },
     "output_type": "display_data"
    },
    {
     "name": "stdout",
     "output_type": "stream",
     "text": [
      "Для числового атрибута 4 группы Iris-setosa\n",
      "\n",
      "\n",
      "*Выведем статистику - задание 2 *\n",
      "Среднее для нового атрибута 9 = 0.244\n",
      "Минимум для нового атрибута 9= 0.1\n",
      "Максимум для нового атрибута 9= 0.6\n",
      "Медиана для нового атрибута 9= 0.2\n",
      "Персентиль 0,25 для нового атрибута 9= 0.2\n",
      "Персентиль 0,75 для нового атрибута 9= 0.3\n",
      "\n",
      "\n",
      "*Выведем гистограмму - задание 3 *\n"
     ]
    },
    {
     "data": {
      "image/png": "[encoded data removed]",
      "text/plain": [
       "<Figure size 432x288 with 1 Axes>"
      ]
     },
     "metadata": {
      "needs_background": "light"
     },
     "output_type": "display_data"
    },
    {
     "name": "stdout",
     "output_type": "stream",
     "text": [
      "Для числового атрибута 4 группы Iris-versicolor\n",
      "\n",
      "\n",
      "*Выведем статистику - задание 2 *\n",
      "Среднее для нового атрибута 10 = 1.3259999999999998\n",
      "Минимум для нового атрибута 10= 1.0\n",
      "Максимум для нового атрибута 10= 1.8\n",
      "Медиана для нового атрибута 10= 1.3\n",
      "Персентиль 0,25 для нового атрибута 10= 1.2\n",
      "Персентиль 0,75 для нового атрибута 10= 1.5\n",
      "\n",
      "\n",
      "*Выведем гистограмму - задание 3 *\n"
     ]
    },
    {
     "data": {
      "image/png": "[encoded data removed]",
      "text/plain": [
       "<Figure size 432x288 with 1 Axes>"
      ]
     },
     "metadata": {
      "needs_background": "light"
     },
     "output_type": "display_data"
    },
    {
     "name": "stdout",
     "output_type": "stream",
     "text": [
      "Для числового атрибута 4 группы Iris-virginica\n",
      "\n",
      "\n",
      "*Выведем статистику - задание 2 *\n",
      "Среднее для нового атрибута 11 = 2.0260000000000002\n",
      "Минимум для нового атрибута 11= 1.4\n",
      "Максимум для нового атрибута 11= 2.5\n",
      "Медиана для нового атрибута 11= 2.0\n",
      "Персентиль 0,25 для нового атрибута 11= 1.8\n",
      "Персентиль 0,75 для нового атрибута 11= 2.3\n",
      "\n",
      "\n",
      "*Выведем гистограмму - задание 3 *\n"
     ]
    },
    {
     "data": {
      "image/png": "[encoded data removed]",
      "text/plain": [
       "<Figure size 432x288 with 1 Axes>"
      ]
     },
     "metadata": {
      "needs_background": "light"
     },
     "output_type": "display_data"
    }
   ],
   "source": [
    "for i in range (len(new_number_atrs)):\n",
    "    print(f'Для числового атрибута {new_number_atrs[i][0]+1} группы {new_number_atrs[i][1]}')\n",
    "    print('\\n')\n",
    "    print('*Выведем статистику - задание 2 *')\n",
    "    print(f'Среднее для нового атрибута {i} =',np.mean(new_number_atrs[i][2]))\n",
    "    print(f'Минимум для нового атрибута {i}=',np.min(new_number_atrs[i][2]))\n",
    "    print(f'Максимум для нового атрибута {i}=',np.max(new_number_atrs[i][2]))\n",
    "    print (f'Медиана для нового атрибута {i}=', np.median(new_number_atrs[i][2]))\n",
    "    print(f'Персентиль 0,25 для нового атрибута {i}=',np.percentile(new_number_atrs[i][2], 25))\n",
    "    print(f'Персентиль 0,75 для нового атрибута {i}=',np.percentile(new_number_atrs[i][2], 75))\n",
    "    print('\\n')\n",
    "    print('*Выведем гистограмму - задание 3 *')\n",
    "    plt.hist(new_number_atrs[i][2])\n",
    "    plt.title(f'Гистограмма для нового атрибута {i}')\n",
    "    plt.show()"
   ]
  },
  {
   "cell_type": "code",
   "execution_count": null,
   "id": "97a68c67-f296-4496-8c06-b22534b6c9c8",
   "metadata": {},
   "outputs": [],
   "source": []
  },
  {
   "cell_type": "code",
   "execution_count": null,
   "id": "47f862db-c304-41d7-93cb-e6b3e3e85f07",
   "metadata": {},
   "outputs": [],
   "source": []
  }
 ],
 "metadata": {
  "kernelspec": {
   "display_name": "Python 3",
   "language": "python",
   "name": "python3"
  },
  "language_info": {
   "codemirror_mode": {
    "name": "ipython",
    "version": 3
   },
   "file_extension": ".py",
   "mimetype": "text/x-python",
   "name": "python",
   "nbconvert_exporter": "python",
   "pygments_lexer": "ipython3",
   "version": "3.8.8"
  },
  "widgets": {
   "application/vnd.jupyter.widget-state+json": {
    "state": {},
    "version_major": 2,
    "version_minor": 0
   }
  }
 },
 "nbformat": 4,
 "nbformat_minor": 5
}
