{
 "cells": [
  {
   "cell_type": "code",
   "execution_count": 3,
   "id": "c5306eaf-887c-4670-9cdc-7e3ce1e725eb",
   "metadata": {},
   "outputs": [],
   "source": [
    "import numpy as np"
   ]
  },
  {
   "cell_type": "markdown",
   "id": "3af5c042-8c98-4a53-81f6-f5fb34260e1b",
   "metadata": {},
   "source": [
    "1.Загрузите датасет с помощью функции np.genfromtxt()"
   ]
  },
  {
   "cell_type": "code",
   "execution_count": 5,
   "id": "38d7a276-f8fe-453b-a680-8bcba57f6d9d",
   "metadata": {},
   "outputs": [],
   "source": [
    "url = 'https://archive.ics.uci.edu/ml/machine-learning-databases/iris/iris.data'\n",
    "iris = np.genfromtxt(url, delimiter=',', dtype='str')"
   ]
  },
  {
   "cell_type": "code",
   "execution_count": 58,
   "id": "26c4e531-b032-4973-bd19-0a8e699b4ced",
   "metadata": {},
   "outputs": [
    {
     "data": {
      "text/plain": [
       "array([['5.1', '3.5', '1.4', '0.2', 'Iris-setosa'],\n",
       "       ['4.9', '3.0', '1.4', '0.2', 'Iris-setosa'],\n",
       "       ['4.7', '3.2', '1.3', '0.2', 'Iris-setosa'],\n",
       "       ['4.6', '3.1', '1.5', '0.2', 'Iris-setosa'],\n",
       "       ['5.0', '3.6', '1.4', '0.2', 'Iris-setosa'],\n",
       "       ['5.4', '3.9', '1.7', '0.4', 'Iris-setosa'],\n",
       "       ['4.6', '3.4', '1.4', '0.3', 'Iris-setosa'],\n",
       "       ['5.0', '3.4', '1.5', '0.2', 'Iris-setosa'],\n",
       "       ['4.4', '2.9', '1.4', '0.2', 'Iris-setosa'],\n",
       "       ['4.9', '3.1', '1.5', '0.1', 'Iris-setosa']], dtype='<U15')"
      ]
     },
     "execution_count": 58,
     "metadata": {},
     "output_type": "execute_result"
    }
   ],
   "source": [
    "iris[:10]"
   ]
  },
  {
   "cell_type": "code",
   "execution_count": 59,
   "id": "cc245525-10c3-45b9-bcf3-1f84e1868062",
   "metadata": {},
   "outputs": [
    {
     "data": {
      "text/plain": [
       "(150, 5)"
      ]
     },
     "execution_count": 59,
     "metadata": {},
     "output_type": "execute_result"
    }
   ],
   "source": [
    "iris.shape"
   ]
  },
  {
   "cell_type": "markdown",
   "id": "0c054778-42e4-4726-b30e-5efb3277fb82",
   "metadata": {},
   "source": [
    "2.Вычислите простейшие статистики: min, max, median, mean, 0.25-percentile,\n",
    "0.75-percentile для каждого из числовых атрибутов в датасете"
   ]
  },
  {
   "cell_type": "code",
   "execution_count": 60,
   "id": "116a6f66-e430-439b-8684-b5cd7a28eff6",
   "metadata": {},
   "outputs": [],
   "source": [
    "atr_1 = np.genfromtxt(url , delimiter= ',', dtype='float', usecols= [0])\n",
    "atr_2 = np.genfromtxt(url , delimiter= ',', dtype='float', usecols= [1])\n",
    "atr_3 = np.genfromtxt(url , delimiter= ',', dtype='float', usecols= [2])\n",
    "atr_4 = np.genfromtxt(url , delimiter= ',', dtype='float', usecols= [3])\n",
    "atr_5 = np.genfromtxt(url , delimiter= ',', dtype='str', usecols= [4])\n"
   ]
  },
  {
   "cell_type": "code",
   "execution_count": 61,
   "id": "494a0aaf-c5bf-431a-950e-8a60be344f23",
   "metadata": {},
   "outputs": [
    {
     "name": "stdout",
     "output_type": "stream",
     "text": [
      "Среднее для atr_1= 5.843333333333334\n",
      "Минимум для atr_1= 4.3\n",
      "Максимум для atr_1= 7.9\n",
      "Медиана для atr_1= 5.8\n",
      "Персентиль 0,25 для atr_1= 5.1\n",
      "Персентиль 0,75 для atr_1= 6.4\n"
     ]
    }
   ],
   "source": [
    "print('Среднее для atr_1=',np.mean(atr_1))\n",
    "print('Минимум для atr_1=',np.min(atr_1))\n",
    "print('Максимум для atr_1=',np.max(atr_1))\n",
    "print ('Медиана для atr_1=', np.median(atr_1))\n",
    "print('Персентиль 0,25 для atr_1=',np.percentile(atr_1, 25))\n",
    "print('Персентиль 0,75 для atr_1=',np.percentile(atr_1, 75))\n"
   ]
  },
  {
   "cell_type": "code",
   "execution_count": 62,
   "id": "52655f73-3d98-4869-a4fa-5b5d072ef3e5",
   "metadata": {},
   "outputs": [
    {
     "name": "stdout",
     "output_type": "stream",
     "text": [
      "Среднее для atr_2= 3.0540000000000003\n",
      "Минимум для atr_2= 2.0\n",
      "Максимум для atr_2= 4.4\n",
      "Медиана для atr_2= 3.0\n",
      "Персентиль 0,25 для atr_2= 2.8\n",
      "Персентиль 0,75 для atr_2= 3.3\n"
     ]
    }
   ],
   "source": [
    "print('Среднее для atr_2=',np.mean(atr_2))\n",
    "print('Минимум для atr_2=',np.min(atr_2))\n",
    "print('Максимум для atr_2=',np.max(atr_2))\n",
    "print ('Медиана для atr_2=', np.median(atr_2))\n",
    "print('Персентиль 0,25 для atr_2=',np.percentile(atr_2, 25))\n",
    "print('Персентиль 0,75 для atr_2=',np.percentile(atr_2, 75))"
   ]
  },
  {
   "cell_type": "code",
   "execution_count": 63,
   "id": "28c450a2-5224-43fd-80a6-bc79605d7424",
   "metadata": {},
   "outputs": [
    {
     "name": "stdout",
     "output_type": "stream",
     "text": [
      "Среднее для atr_3= 3.758666666666666\n",
      "Минимум для atr_3= 1.0\n",
      "Максимум для atr_3= 6.9\n",
      "Медиана для atr_3= 4.35\n",
      "Персентиль 0,25 для atr_3= 1.6\n",
      "Персентиль 0,75 для atr_3= 5.1\n"
     ]
    }
   ],
   "source": [
    "print('Среднее для atr_3=',np.mean(atr_3))\n",
    "print('Минимум для atr_3=',np.min(atr_3))\n",
    "print('Максимум для atr_3=',np.max(atr_3))\n",
    "print ('Медиана для atr_3=', np.median(atr_3))\n",
    "print('Персентиль 0,25 для atr_3=',np.percentile(atr_3, 25))\n",
    "print('Персентиль 0,75 для atr_3=',np.percentile(atr_3, 75))"
   ]
  },
  {
   "cell_type": "code",
   "execution_count": 64,
   "id": "6cd7393e-be6e-4183-986b-746bf8927abf",
   "metadata": {},
   "outputs": [
    {
     "name": "stdout",
     "output_type": "stream",
     "text": [
      "Среднее для atr_4= 1.1986666666666668\n",
      "Минимум для atr_4= 0.1\n",
      "Максимум для atr_4= 2.5\n",
      "Медиана для atr_4= 1.3\n",
      "Персентиль 0,25 для atr_4= 0.3\n",
      "Персентиль 0,75 для atr_4= 1.8\n"
     ]
    }
   ],
   "source": [
    "print('Среднее для atr_4=',np.mean(atr_4))\n",
    "print('Минимум для atr_4=',np.min(atr_4))\n",
    "print('Максимум для atr_4=',np.max(atr_4))\n",
    "print ('Медиана для atr_4=', np.median(atr_4))\n",
    "print('Персентиль 0,25 для atr_4=',np.percentile(atr_4, 25))\n",
    "print('Персентиль 0,75 для atr_4=',np.percentile(atr_4, 75))"
   ]
  },
  {
   "cell_type": "code",
   "execution_count": 65,
   "id": "bb759745-baf2-43a8-bf5b-e88a0b090dd4",
   "metadata": {},
   "outputs": [],
   "source": [
    "massiv = [atr_1, atr_2, atr_3, atr_4]\n",
    "a=np.array(massiv)"
   ]
  },
  {
   "cell_type": "code",
   "execution_count": 66,
   "id": "6ba44961-0067-4b2b-b36d-165cb0bc16f4",
   "metadata": {},
   "outputs": [
    {
     "name": "stdout",
     "output_type": "stream",
     "text": [
      "\n",
      "Минимум = 4.3 \n",
      "Максимум = 7.9 \n",
      "Медиана = 5.8 \n",
      "Среднее значение = 5.843333333333334 \n",
      "Персентиль 0.25 = 5.1 \n",
      "Персентиль 0.75 = 6.4\n",
      "\n",
      "Минимум = 2.0 \n",
      "Максимум = 4.4 \n",
      "Медиана = 3.0 \n",
      "Среднее значение = 3.0540000000000003 \n",
      "Персентиль 0.25 = 2.8 \n",
      "Персентиль 0.75 = 3.3\n",
      "\n",
      "Минимум = 1.0 \n",
      "Максимум = 6.9 \n",
      "Медиана = 4.35 \n",
      "Среднее значение = 3.758666666666666 \n",
      "Персентиль 0.25 = 1.6 \n",
      "Персентиль 0.75 = 5.1\n",
      "\n",
      "Минимум = 0.1 \n",
      "Максимум = 2.5 \n",
      "Медиана = 1.3 \n",
      "Среднее значение = 1.1986666666666668 \n",
      "Персентиль 0.25 = 0.3 \n",
      "Персентиль 0.75 = 1.8\n"
     ]
    }
   ],
   "source": [
    "for val in a:\n",
    "  print ('\\nМинимум =',np.min(val),\n",
    "         '\\nМаксимум =',np.max(val),\n",
    "         '\\nМедиана =',np.median(val),\n",
    "         '\\nСреднее значение =',np.mean(val),\n",
    "         '\\nПерсентиль 0.25 =',np.percentile(val, 25),\n",
    "         '\\nПерсентиль 0.75 =',np.percentile(val, 75))"
   ]
  },
  {
   "cell_type": "markdown",
   "id": "c7eada4e-5c41-46fe-8394-047d6f21ae9e",
   "metadata": {},
   "source": [
    "3. Постройте гистограмму для каждого из числовых атрибутов в датасете"
   ]
  },
  {
   "cell_type": "code",
   "execution_count": 67,
   "id": "549e2323-6a6e-4282-a82b-09d1b2ed15b3",
   "metadata": {},
   "outputs": [],
   "source": [
    "import matplotlib.pyplot as plt"
   ]
  },
  {
   "cell_type": "code",
   "execution_count": 68,
   "id": "2bcfed95-0d13-475c-8eca-2cfa55b7c790",
   "metadata": {},
   "outputs": [
    {
     "data": {
      "image/png": "[encoded data removed]",
      "text/plain": [
       "<Figure size 432x288 with 1 Axes>"
      ]
     },
     "metadata": {
      "needs_background": "light"
     },
     "output_type": "display_data"
    }
   ],
   "source": [
    "plt.hist(atr_1, bins = 'auto')\n",
    "plt.title('Гистограмма для atr_1')\n",
    "plt.show()"
   ]
  },
  {
   "cell_type": "code",
   "execution_count": 69,
   "id": "e54798fe-87ad-4924-a6be-50707332b317",
   "metadata": {},
   "outputs": [
    {
     "data": {
      "image/png": "[encoded data removed]",
      "text/plain": [
       "<Figure size 432x288 with 4 Axes>"
      ]
     },
     "metadata": {
      "needs_background": "light"
     },
     "output_type": "display_data"
    }
   ],
   "source": [
    "fig, ((ax1, ax2), (ax3, ax4)) = plt.subplots(nrows=2, ncols=2)\n",
    "\n",
    "ax1.hist(atr_1)\n",
    "ax1.set_title('Гистограмма для atr_1')\n",
    "\n",
    "ax2.hist(atr_2)\n",
    "ax2.set_title('Гистограмма для atr_2')\n",
    "\n",
    "ax3.hist(atr_3)\n",
    "ax3.set_title('Гистограмма для atr_3')\n",
    "\n",
    "ax4.hist(atr_4)\n",
    "ax4.set_title('Гистограмма для atr_4')\n",
    "\n",
    "fig.tight_layout()\n",
    "plt.show()"
   ]
  },
  {
   "cell_type": "markdown",
   "id": "c68563f1-743a-4cef-a370-58b748d5ae9c",
   "metadata": {},
   "source": [
    "4. Сгруппируйте датасет по категории (последний столбец датасета) и повторите\n",
    "шаги 2 и 3 для групп."
   ]
  },
  {
   "cell_type": "code",
   "execution_count": 70,
   "id": "d8779dbf-9ab3-4d0f-be4a-e64625a417c6",
   "metadata": {},
   "outputs": [
    {
     "data": {
      "text/plain": [
       "array(['Iris-setosa', 'Iris-setosa', 'Iris-setosa', 'Iris-setosa',\n",
       "       'Iris-setosa', 'Iris-setosa', 'Iris-setosa', 'Iris-setosa',\n",
       "       'Iris-setosa', 'Iris-setosa', 'Iris-setosa', 'Iris-setosa',\n",
       "       'Iris-setosa', 'Iris-setosa', 'Iris-setosa', 'Iris-setosa',\n",
       "       'Iris-setosa', 'Iris-setosa', 'Iris-setosa', 'Iris-setosa',\n",
       "       'Iris-setosa', 'Iris-setosa', 'Iris-setosa', 'Iris-setosa',\n",
       "       'Iris-setosa', 'Iris-setosa', 'Iris-setosa', 'Iris-setosa',\n",
       "       'Iris-setosa', 'Iris-setosa', 'Iris-setosa', 'Iris-setosa',\n",
       "       'Iris-setosa', 'Iris-setosa', 'Iris-setosa', 'Iris-setosa',\n",
       "       'Iris-setosa', 'Iris-setosa', 'Iris-setosa', 'Iris-setosa',\n",
       "       'Iris-setosa', 'Iris-setosa', 'Iris-setosa', 'Iris-setosa',\n",
       "       'Iris-setosa', 'Iris-setosa', 'Iris-setosa', 'Iris-setosa',\n",
       "       'Iris-setosa', 'Iris-setosa', 'Iris-versicolor', 'Iris-versicolor',\n",
       "       'Iris-versicolor', 'Iris-versicolor', 'Iris-versicolor',\n",
       "       'Iris-versicolor', 'Iris-versicolor', 'Iris-versicolor',\n",
       "       'Iris-versicolor', 'Iris-versicolor', 'Iris-versicolor',\n",
       "       'Iris-versicolor', 'Iris-versicolor', 'Iris-versicolor',\n",
       "       'Iris-versicolor', 'Iris-versicolor', 'Iris-versicolor',\n",
       "       'Iris-versicolor', 'Iris-versicolor', 'Iris-versicolor',\n",
       "       'Iris-versicolor', 'Iris-versicolor', 'Iris-versicolor',\n",
       "       'Iris-versicolor', 'Iris-versicolor', 'Iris-versicolor',\n",
       "       'Iris-versicolor', 'Iris-versicolor', 'Iris-versicolor',\n",
       "       'Iris-versicolor', 'Iris-versicolor', 'Iris-versicolor',\n",
       "       'Iris-versicolor', 'Iris-versicolor', 'Iris-versicolor',\n",
       "       'Iris-versicolor', 'Iris-versicolor', 'Iris-versicolor',\n",
       "       'Iris-versicolor', 'Iris-versicolor', 'Iris-versicolor',\n",
       "       'Iris-versicolor', 'Iris-versicolor', 'Iris-versicolor',\n",
       "       'Iris-versicolor', 'Iris-versicolor', 'Iris-versicolor',\n",
       "       'Iris-versicolor', 'Iris-versicolor', 'Iris-versicolor',\n",
       "       'Iris-virginica', 'Iris-virginica', 'Iris-virginica',\n",
       "       'Iris-virginica', 'Iris-virginica', 'Iris-virginica',\n",
       "       'Iris-virginica', 'Iris-virginica', 'Iris-virginica',\n",
       "       'Iris-virginica', 'Iris-virginica', 'Iris-virginica',\n",
       "       'Iris-virginica', 'Iris-virginica', 'Iris-virginica',\n",
       "       'Iris-virginica', 'Iris-virginica', 'Iris-virginica',\n",
       "       'Iris-virginica', 'Iris-virginica', 'Iris-virginica',\n",
       "       'Iris-virginica', 'Iris-virginica', 'Iris-virginica',\n",
       "       'Iris-virginica', 'Iris-virginica', 'Iris-virginica',\n",
       "       'Iris-virginica', 'Iris-virginica', 'Iris-virginica',\n",
       "       'Iris-virginica', 'Iris-virginica', 'Iris-virginica',\n",
       "       'Iris-virginica', 'Iris-virginica', 'Iris-virginica',\n",
       "       'Iris-virginica', 'Iris-virginica', 'Iris-virginica',\n",
       "       'Iris-virginica', 'Iris-virginica', 'Iris-virginica',\n",
       "       'Iris-virginica', 'Iris-virginica', 'Iris-virginica',\n",
       "       'Iris-virginica', 'Iris-virginica', 'Iris-virginica',\n",
       "       'Iris-virginica', 'Iris-virginica'], dtype='<U15')"
      ]
     },
     "execution_count": 70,
     "metadata": {},
     "output_type": "execute_result"
    }
   ],
   "source": [
    "atr_5"
   ]
  },
  {
   "cell_type": "code",
   "execution_count": 71,
   "id": "b16e50c7-4a9b-47de-9923-6dd74bca5061",
   "metadata": {},
   "outputs": [],
   "source": [
    "new_1=[]\n",
    "for group_val in np.unique(atr_5):\n",
    "  new_1.append(atr_1[atr_5==group_val].mean())"
   ]
  },
  {
   "cell_type": "code",
   "execution_count": 72,
   "id": "ab6a753d-0202-47f8-be49-f194606558a8",
   "metadata": {},
   "outputs": [
    {
     "data": {
      "text/plain": [
       "[5.006, 5.936, 6.587999999999998]"
      ]
     },
     "execution_count": 72,
     "metadata": {},
     "output_type": "execute_result"
    }
   ],
   "source": [
    "new_1"
   ]
  },
  {
   "cell_type": "code",
   "execution_count": 73,
   "id": "61f6a6c2-cc2a-4c82-ba10-e85798267a9e",
   "metadata": {},
   "outputs": [
    {
     "name": "stdout",
     "output_type": "stream",
     "text": [
      "Среднее для new_1= 5.843333333333333\n",
      "Минимум для new_1= 5.006\n",
      "Максимум для new_1= 6.587999999999998\n",
      "Медиана для new_1= 5.936\n",
      "Персентиль 0,25 для new_1= 5.471\n",
      "Персентиль 0,75 для new_1= 6.261999999999999\n"
     ]
    },
    {
     "data": {
      "image/png": "[encoded data removed]",
      "text/plain": [
       "<Figure size 432x288 with 1 Axes>"
      ]
     },
     "metadata": {
      "needs_background": "light"
     },
     "output_type": "display_data"
    }
   ],
   "source": [
    "print('Среднее для new_1=',np.mean(new_1))\n",
    "print('Минимум для new_1=',np.min(new_1))\n",
    "print('Максимум для new_1=',np.max(new_1))\n",
    "print ('Медиана для new_1=', np.median(new_1))\n",
    "print('Персентиль 0,25 для new_1=',np.percentile(new_1, 25))\n",
    "print('Персентиль 0,75 для new_1=',np.percentile(new_1, 75))\n",
    "\n",
    "plt.hist(new_1, bins='auto')\n",
    "plt.title('Гистограмма для new_1')\n",
    "plt.show()"
   ]
  },
  {
   "cell_type": "code",
   "execution_count": 74,
   "id": "1c261f26-8556-4712-98f4-ac751837695b",
   "metadata": {},
   "outputs": [],
   "source": [
    "new_2=[]\n",
    "for group_val in np.unique(atr_5):\n",
    "  new_2.append(atr_2[atr_5==group_val].mean())"
   ]
  },
  {
   "cell_type": "code",
   "execution_count": 75,
   "id": "10106f2c-48f3-485b-8401-1cfdcd57aff7",
   "metadata": {},
   "outputs": [
    {
     "data": {
      "text/plain": [
       "[3.418, 2.7700000000000005, 2.974]"
      ]
     },
     "execution_count": 75,
     "metadata": {},
     "output_type": "execute_result"
    }
   ],
   "source": [
    "new_2"
   ]
  },
  {
   "cell_type": "code",
   "execution_count": 76,
   "id": "3714eda6-5aa8-42dc-b187-7ca6ec3a9d80",
   "metadata": {},
   "outputs": [
    {
     "name": "stdout",
     "output_type": "stream",
     "text": [
      "Среднее для new_2= 3.0540000000000003\n",
      "Минимум для new_2= 2.7700000000000005\n",
      "Максимум для new_2= 3.418\n",
      "Медиана для new_2= 2.974\n",
      "Персентиль 0,25 для new_2= 2.8720000000000003\n",
      "Персентиль 0,75 для new_2= 3.196\n"
     ]
    },
    {
     "data": {
      "image/png": "[encoded data removed]",
      "text/plain": [
       "<Figure size 432x288 with 1 Axes>"
      ]
     },
     "metadata": {
      "needs_background": "light"
     },
     "output_type": "display_data"
    }
   ],
   "source": [
    "print('Среднее для new_2=',np.mean(new_2))\n",
    "print('Минимум для new_2=',np.min(new_2))\n",
    "print('Максимум для new_2=',np.max(new_2))\n",
    "print ('Медиана для new_2=', np.median(new_2))\n",
    "print('Персентиль 0,25 для new_2=',np.percentile(new_2, 25))\n",
    "print('Персентиль 0,75 для new_2=',np.percentile(new_2, 75))\n",
    "\n",
    "plt.hist(new_2, bins='auto')\n",
    "plt.title('Гистограмма для new_2')\n",
    "plt.show()"
   ]
  },
  {
   "cell_type": "code",
   "execution_count": 77,
   "id": "a58fda77-4dcb-419f-8f9b-b00fb179a53a",
   "metadata": {},
   "outputs": [],
   "source": [
    "new_3=[]\n",
    "for group_val in np.unique(atr_5):\n",
    "  new_3.append(atr_3[atr_5==group_val].mean())"
   ]
  },
  {
   "cell_type": "code",
   "execution_count": 78,
   "id": "c5d9fc89-5ea0-458a-b63a-54150bf42b04",
   "metadata": {},
   "outputs": [
    {
     "data": {
      "text/plain": [
       "[1.464, 4.26, 5.5520000000000005]"
      ]
     },
     "execution_count": 78,
     "metadata": {},
     "output_type": "execute_result"
    }
   ],
   "source": [
    "new_3"
   ]
  },
  {
   "cell_type": "code",
   "execution_count": 79,
   "id": "c334175a-e657-4d82-bba1-34f267b3204a",
   "metadata": {},
   "outputs": [
    {
     "name": "stdout",
     "output_type": "stream",
     "text": [
      "Среднее для new_3= 3.7586666666666666\n",
      "Минимум для new_3= 1.464\n",
      "Максимум для new_3= 5.5520000000000005\n",
      "Медиана для new_3= 4.26\n",
      "Персентиль 0,25 для new_3= 2.862\n",
      "Персентиль 0,75 для new_3= 4.906000000000001\n"
     ]
    },
    {
     "data": {
      "image/png": "[encoded data removed]",
      "text/plain": [
       "<Figure size 432x288 with 1 Axes>"
      ]
     },
     "metadata": {
      "needs_background": "light"
     },
     "output_type": "display_data"
    }
   ],
   "source": [
    "print('Среднее для new_3=',np.mean(new_3))\n",
    "print('Минимум для new_3=',np.min(new_3))\n",
    "print('Максимум для new_3=',np.max(new_3))\n",
    "print ('Медиана для new_3=', np.median(new_3))\n",
    "print('Персентиль 0,25 для new_3=',np.percentile(new_3, 25))\n",
    "print('Персентиль 0,75 для new_3=',np.percentile(new_3, 75))\n",
    "\n",
    "plt.hist(new_3, bins='auto')\n",
    "plt.title('Гистограмма для new_3')\n",
    "plt.show()"
   ]
  },
  {
   "cell_type": "code",
   "execution_count": 80,
   "id": "9ef3de26-ef12-4ece-b40b-2a5223824cc2",
   "metadata": {},
   "outputs": [
    {
     "data": {
      "text/plain": [
       "array([[5.006, 5.936, 6.588],\n",
       "       [3.418, 2.77 , 2.974],\n",
       "       [1.464, 4.26 , 5.552]])"
      ]
     },
     "execution_count": 80,
     "metadata": {},
     "output_type": "execute_result"
    }
   ],
   "source": [
    "massiv = [new_1, new_2, new_3]\n",
    "z=np.array(massiv)\n",
    "z"
   ]
  },
  {
   "cell_type": "code",
   "execution_count": 83,
   "id": "071591e4-c662-467b-b2db-798ed236a512",
   "metadata": {},
   "outputs": [
    {
     "name": "stdout",
     "output_type": "stream",
     "text": [
      "\n",
      "Минимум = 5.006 \n",
      "Максимум = 6.587999999999998 \n",
      "Медиана = 5.936 \n",
      "Среднее значение = 5.843333333333333 \n",
      "Персентиль 0.25 = 5.471 \n",
      "Персентиль 0.75 = 6.261999999999999\n",
      "\n",
      "Минимум = 2.7700000000000005 \n",
      "Максимум = 3.418 \n",
      "Медиана = 2.974 \n",
      "Среднее значение = 3.0540000000000003 \n",
      "Персентиль 0.25 = 2.8720000000000003 \n",
      "Персентиль 0.75 = 3.196\n",
      "\n",
      "Минимум = 1.464 \n",
      "Максимум = 5.5520000000000005 \n",
      "Медиана = 4.26 \n",
      "Среднее значение = 3.7586666666666666 \n",
      "Персентиль 0.25 = 2.862 \n",
      "Персентиль 0.75 = 4.906000000000001\n"
     ]
    }
   ],
   "source": [
    "for val in z:\n",
    "  print ('\\nМинимум =',np.min(val),\n",
    "         '\\nМаксимум =',np.max(val),\n",
    "         '\\nМедиана =',np.median(val),\n",
    "         '\\nСреднее значение =',np.mean(val),\n",
    "         '\\nПерсентиль 0.25 =',np.percentile(val, 25),\n",
    "         '\\nПерсентиль 0.75 =',np.percentile(val, 75))"
   ]
  },
  {
   "cell_type": "code",
   "execution_count": 86,
   "id": "f8d0b7af-6369-4728-9dbd-2a5b4bb7a7b8",
   "metadata": {},
   "outputs": [
    {
     "data": {
      "image/png": "[encoded data removed]",
      "text/plain": [
       "<Figure size 432x288 with 4 Axes>"
      ]
     },
     "metadata": {
      "needs_background": "light"
     },
     "output_type": "display_data"
    }
   ],
   "source": [
    "fig, ((ay1, ay2),(ay3, ay4)) = plt.subplots(nrows=2, ncols=2)\n",
    "ay1.hist(new_1)\n",
    "ay1.set_title('Гистограмма для atr1_new_1')\n",
    "\n",
    "ay2.hist(new_2)\n",
    "ay2.set_title('Гистограмма для atr2_new_2')\n",
    "\n",
    "ay3.hist(new_3)\n",
    "ay3.set_title('Гистограмма для atr3_new_3')\n",
    "\n",
    "fig.tight_layout()\n",
    "plt.show()"
   ]
  },
  {
   "cell_type": "code",
   "execution_count": null,
   "id": "1eeafdbf-9026-45f0-b4f7-28b43dfeace4",
   "metadata": {},
   "outputs": [],
   "source": []
  }
 ],
 "metadata": {
  "kernelspec": {
   "display_name": "Python 3",
   "language": "python",
   "name": "python3"
  },
  "language_info": {
   "codemirror_mode": {
    "name": "ipython",
    "version": 3
   },
   "file_extension": ".py",
   "mimetype": "text/x-python",
   "name": "python",
   "nbconvert_exporter": "python",
   "pygments_lexer": "ipython3",
   "version": "3.8.8"
  },
  "widgets": {
   "application/vnd.jupyter.widget-state+json": {
    "state": {},
    "version_major": 2,
    "version_minor": 0
   }
  }
 },
 "nbformat": 4,
 "nbformat_minor": 5
}
